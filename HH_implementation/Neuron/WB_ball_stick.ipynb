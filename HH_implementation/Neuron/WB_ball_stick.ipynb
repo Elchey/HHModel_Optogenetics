{
 "cells": [
  {
   "cell_type": "code",
   "execution_count": 2,
   "metadata": {},
   "outputs": [
    {
     "data": {
      "text/plain": [
       "1.0"
      ]
     },
     "execution_count": 2,
     "metadata": {},
     "output_type": "execute_result"
    }
   ],
   "source": [
    "from neuron import h, gui   # Standard \"import\" of the NEURON library into Python...\n",
    "import matplotlib.pyplot as plt\n",
    "import statistics \n",
    "import numpy as np\n",
    "import seaborn as sns\n",
    "h.load_file('stdrun.hoc')   # Activation of a NEURON library, to fine control the simulation..."
   ]
  },
  {
   "cell_type": "markdown",
   "metadata": {},
   "source": [
    "#### Model Ball+Stick"
   ]
  },
  {
   "cell_type": "code",
   "execution_count": 2,
   "metadata": {},
   "outputs": [
    {
     "name": "stdout",
     "output_type": "stream",
     "text": [
      "soma { nseg=1  L=100  Ra=35.4\n",
      "\t/*location 0 attached to cell 0*/\n",
      "\t/* First segment only */\n",
      "\tinsert morphology { diam=500}\n",
      "\tinsert capacitance { cm=0.5}\n",
      "}\n"
     ]
    },
    {
     "data": {
      "text/plain": [
       "1.0"
      ]
     },
     "execution_count": 2,
     "metadata": {},
     "output_type": "execute_result"
    }
   ],
   "source": [
    "soma = h.Section(name='soma')\n",
    "soma.cm = 0.5\n",
    "h.psection()"
   ]
  },
  {
   "cell_type": "code",
   "execution_count": 4,
   "metadata": {},
   "outputs": [],
   "source": [
    "axon=h.Section(name='axon')\n",
    "axon.nseg=100\n",
    "axon.Ra=123\n",
    "axon.L=200\n",
    "axon.diam=2"
   ]
  },
  {
   "cell_type": "code",
   "execution_count": 5,
   "metadata": {},
   "outputs": [
    {
     "name": "stdout",
     "output_type": "stream",
     "text": [
      "axon { nseg=100  L=200  Ra=123\n",
      "\t/*location 0 attached to cell 1*/\n",
      "\t/* First segment only */\n",
      "\tinsert capacitance { cm=1}\n",
      "\tinsert morphology { diam=2}\n",
      "}\n"
     ]
    },
    {
     "data": {
      "text/plain": [
       "1.0"
      ]
     },
     "execution_count": 5,
     "metadata": {},
     "output_type": "execute_result"
    }
   ],
   "source": [
    "h.psection(sec=axon)"
   ]
  },
  {
   "cell_type": "code",
   "execution_count": 3,
   "metadata": {},
   "outputs": [
    {
     "name": "stdout",
     "output_type": "stream",
     "text": [
      "soma\n"
     ]
    }
   ],
   "source": [
    "for sec in h.allsec():\n",
    "    sec.insert('WBCN')\n",
    "    print(sec)"
   ]
  },
  {
   "cell_type": "code",
   "execution_count": 7,
   "metadata": {},
   "outputs": [
    {
     "data": {
      "text/plain": [
       "soma"
      ]
     },
     "execution_count": 7,
     "metadata": {},
     "output_type": "execute_result"
    }
   ],
   "source": [
    "soma.insert('WBCN')\n",
    "#axon.insert(\"pas\")"
   ]
  },
  {
   "cell_type": "code",
   "execution_count": 6,
   "metadata": {},
   "outputs": [
    {
     "name": "stdout",
     "output_type": "stream",
     "text": [
      "0.5 1800.0\n"
     ]
    }
   ],
   "source": [
    "for seg in soma:\n",
    "    seg.WBCN.NK*=0.1\n",
    "    seg.WBCN.NNa*=0.1\n",
    "    print (seg.x,seg.WBCN.NK)"
   ]
  },
  {
   "cell_type": "code",
   "execution_count": 7,
   "metadata": {
    "scrolled": true
   },
   "outputs": [
    {
     "name": "stdout",
     "output_type": "stream",
     "text": [
      "0.005\n",
      "0.015\n",
      "0.025\n",
      "0.035\n",
      "0.045000000000000005\n",
      "0.05500000000000001\n",
      "0.065\n",
      "0.075\n",
      "0.08499999999999999\n",
      "0.09499999999999999\n",
      "0.10499999999999998\n",
      "0.11499999999999998\n",
      "0.12499999999999997\n",
      "0.13499999999999998\n",
      "0.145\n",
      "0.155\n",
      "0.165\n",
      "0.17500000000000002\n",
      "0.18500000000000003\n",
      "0.19500000000000003\n",
      "0.20500000000000004\n",
      "0.21500000000000005\n",
      "0.22500000000000006\n",
      "0.23500000000000007\n",
      "0.24500000000000008\n",
      "0.25500000000000006\n",
      "0.26500000000000007\n",
      "0.2750000000000001\n",
      "0.2850000000000001\n",
      "0.2950000000000001\n",
      "0.3050000000000001\n",
      "0.3150000000000001\n",
      "0.3250000000000001\n",
      "0.33500000000000013\n",
      "0.34500000000000014\n",
      "0.35500000000000015\n",
      "0.36500000000000016\n",
      "0.37500000000000017\n",
      "0.3850000000000002\n",
      "0.3950000000000002\n",
      "0.4050000000000002\n",
      "0.4150000000000002\n",
      "0.4250000000000002\n",
      "0.4350000000000002\n",
      "0.44500000000000023\n",
      "0.45500000000000024\n",
      "0.46500000000000025\n",
      "0.47500000000000026\n",
      "0.48500000000000026\n",
      "0.4950000000000003\n",
      "0.5050000000000002\n",
      "0.5150000000000002\n",
      "0.5250000000000002\n",
      "0.5350000000000003\n",
      "0.5450000000000003\n",
      "0.5550000000000003\n",
      "0.5650000000000003\n",
      "0.5750000000000003\n",
      "0.5850000000000003\n",
      "0.5950000000000003\n",
      "0.6050000000000003\n",
      "0.6150000000000003\n",
      "0.6250000000000003\n",
      "0.6350000000000003\n",
      "0.6450000000000004\n",
      "0.6550000000000004\n",
      "0.6650000000000004\n",
      "0.6750000000000004\n",
      "0.6850000000000004\n",
      "0.6950000000000004\n",
      "0.7050000000000004\n",
      "0.7150000000000004\n",
      "0.7250000000000004\n",
      "0.7350000000000004\n",
      "0.7450000000000004\n",
      "0.7550000000000004\n",
      "0.7650000000000005\n",
      "0.7750000000000005\n",
      "0.7850000000000005\n",
      "0.7950000000000005\n",
      "0.8050000000000005\n",
      "0.8150000000000005\n",
      "0.8250000000000005\n",
      "0.8350000000000005\n",
      "0.8450000000000005\n",
      "0.8550000000000005\n",
      "0.8650000000000005\n",
      "0.8750000000000006\n",
      "0.8850000000000006\n",
      "0.8950000000000006\n",
      "0.9050000000000006\n",
      "0.9150000000000006\n",
      "0.9250000000000006\n",
      "0.9350000000000006\n",
      "0.9450000000000006\n",
      "0.9550000000000006\n",
      "0.9650000000000006\n",
      "0.9750000000000006\n",
      "0.9850000000000007\n",
      "0.9950000000000007\n"
     ]
    }
   ],
   "source": [
    "for seg in axon:\n",
    "    seg.WBCN.NK*=0.1\n",
    "    seg.WBCN.NNa*=0.1\n",
    "    print (seg.x)"
   ]
  },
  {
   "cell_type": "code",
   "execution_count": 8,
   "metadata": {},
   "outputs": [],
   "source": [
    "axon(0.005).WBCN.NNa*=100\n",
    "axon(0.005).WBCN.NK*=100"
   ]
  },
  {
   "cell_type": "code",
   "execution_count": 9,
   "metadata": {},
   "outputs": [
    {
     "name": "stdout",
     "output_type": "stream",
     "text": [
      "\n",
      "|-|       soma(0-1)\n",
      "   `---------------------------------------------------------------------------------------------------|       axon(0-1)\n",
      "\n"
     ]
    },
    {
     "data": {
      "text/plain": [
       "1.0"
      ]
     },
     "execution_count": 9,
     "metadata": {},
     "output_type": "execute_result"
    }
   ],
   "source": [
    "axon.connect(soma,1)\n",
    "h.topology()"
   ]
  },
  {
   "cell_type": "markdown",
   "metadata": {},
   "source": [
    "### Train impulse definition"
   ]
  },
  {
   "cell_type": "code",
   "execution_count": 25,
   "metadata": {},
   "outputs": [],
   "source": [
    "tot=10000\n",
    "freq=28          #ms -   Inter-stimulation interval\n",
    "n=int(tot/freq)\n",
    "#n=1\n",
    "A= 20.9\n",
    "#A= 0.38  # micro Ampere, the intensity of the current square pulse\n",
    "\n",
    "iclamp=[]   # impulse train\n",
    "t_in=[]\n",
    "counter=0\n",
    "\n",
    "for i in range(0,n):\n",
    "    imp=h.IClamp(soma(0.5))    # This is positioned in the central point (0.5) of the soma \"segment\"\n",
    "    #imp=h.IClamp(axon(0.5050000000000002))\n",
    "    imp.delay=0+counter        # millisecond of delay, before switching on the current \"square pulse\"\n",
    "    imp.amp=A\n",
    "    imp.dur=0.27303           # millisecond of duration, of the square pulse waveform\n",
    "    iclamp.append(imp)   # This is positioned in the central point (0.5) of the soma \"segment\"\n",
    "    t_in.append(imp.delay)\n",
    "    counter=imp.delay+freq"
   ]
  },
  {
   "cell_type": "code",
   "execution_count": 64,
   "metadata": {},
   "outputs": [],
   "source": [
    "Aax=0.65\n",
    "for seg in axon:\n",
    "    counter=0\n",
    "    for i in range(0,n):\n",
    "        imp=h.IClamp(axon(seg.x))\n",
    "        imp.delay=0+counter        # millisecond of delay, before switching on the current \"square pulse\"\n",
    "        imp.amp=Aax\n",
    "        imp.dur=0.27303           # millisecond of duration, of the square pulse waveform\n",
    "        #iclamp.append(imp)   # This is positioned in the central point (0.5) of the soma \"segment\"\n",
    "        #t_in.append(imp.delay)\n",
    "        counter=imp.delay+freq"
   ]
  },
  {
   "cell_type": "markdown",
   "metadata": {},
   "source": [
    "###  Model injection and record parameter"
   ]
  },
  {
   "cell_type": "code",
   "execution_count": 26,
   "metadata": {
    "scrolled": true
   },
   "outputs": [
    {
     "name": "stdout",
     "output_type": "stream",
     "text": [
      "soma { nseg=1  L=100  Ra=35.4\n",
      "\t/*location 0 attached to cell 0*/\n",
      "\t/* First segment only */\n",
      "\tinsert morphology { diam=500}\n",
      "\tinsert capacitance { cm=0.5}\n",
      "\tinsert WBCN { se_WBCN=-1 gnabar_WBCN=0.08 gkbar_WBCN=0.036 gl_WBCN=0.0003 el_WBCN=-54.3 NNa_WBCN=6000 NK_WBCN=1800}\n",
      "\tinsert na_ion { ena=50}\n",
      "\tinsert k_ion { ek=-77}\n",
      "\tinsert IClamp { del=0 dur=0.27303 amp=20.9}\n",
      "\tinsert IClamp { del=28 dur=0.27303 amp=20.9}\n",
      "\tinsert IClamp { del=56 dur=0.27303 amp=20.9}\n",
      "\tinsert IClamp { del=84 dur=0.27303 amp=20.9}\n",
      "\tinsert IClamp { del=112 dur=0.27303 amp=20.9}\n",
      "\tinsert IClamp { del=140 dur=0.27303 amp=20.9}\n",
      "\tinsert IClamp { del=168 dur=0.27303 amp=20.9}\n",
      "\tinsert IClamp { del=196 dur=0.27303 amp=20.9}\n",
      "\tinsert IClamp { del=224 dur=0.27303 amp=20.9}\n",
      "\tinsert IClamp { del=252 dur=0.27303 amp=20.9}\n",
      "\tinsert IClamp { del=280 dur=0.27303 amp=20.9}\n",
      "\tinsert IClamp { del=308 dur=0.27303 amp=20.9}\n",
      "\tinsert IClamp { del=336 dur=0.27303 amp=20.9}\n",
      "\tinsert IClamp { del=364 dur=0.27303 amp=20.9}\n",
      "\tinsert IClamp { del=392 dur=0.27303 amp=20.9}\n",
      "\tinsert IClamp { del=420 dur=0.27303 amp=20.9}\n",
      "\tinsert IClamp { del=448 dur=0.27303 amp=20.9}\n",
      "\tinsert IClamp { del=476 dur=0.27303 amp=20.9}\n",
      "\tinsert IClamp { del=504 dur=0.27303 amp=20.9}\n",
      "\tinsert IClamp { del=532 dur=0.27303 amp=20.9}\n",
      "\tinsert IClamp { del=560 dur=0.27303 amp=20.9}\n",
      "\tinsert IClamp { del=588 dur=0.27303 amp=20.9}\n",
      "\tinsert IClamp { del=616 dur=0.27303 amp=20.9}\n",
      "\tinsert IClamp { del=644 dur=0.27303 amp=20.9}\n",
      "\tinsert IClamp { del=672 dur=0.27303 amp=20.9}\n",
      "\tinsert IClamp { del=700 dur=0.27303 amp=20.9}\n",
      "\tinsert IClamp { del=728 dur=0.27303 amp=20.9}\n",
      "\tinsert IClamp { del=756 dur=0.27303 amp=20.9}\n",
      "\tinsert IClamp { del=784 dur=0.27303 amp=20.9}\n",
      "\tinsert IClamp { del=812 dur=0.27303 amp=20.9}\n",
      "\tinsert IClamp { del=840 dur=0.27303 amp=20.9}\n",
      "\tinsert IClamp { del=868 dur=0.27303 amp=20.9}\n",
      "\tinsert IClamp { del=896 dur=0.27303 amp=20.9}\n",
      "\tinsert IClamp { del=924 dur=0.27303 amp=20.9}\n",
      "\tinsert IClamp { del=952 dur=0.27303 amp=20.9}\n",
      "\tinsert IClamp { del=980 dur=0.27303 amp=20.9}\n",
      "\tinsert IClamp { del=1008 dur=0.27303 amp=20.9}\n",
      "\tinsert IClamp { del=1036 dur=0.27303 amp=20.9}\n",
      "\tinsert IClamp { del=1064 dur=0.27303 amp=20.9}\n",
      "\tinsert IClamp { del=1092 dur=0.27303 amp=20.9}\n",
      "\tinsert IClamp { del=1120 dur=0.27303 amp=20.9}\n",
      "\tinsert IClamp { del=1148 dur=0.27303 amp=20.9}\n",
      "\tinsert IClamp { del=1176 dur=0.27303 amp=20.9}\n",
      "\tinsert IClamp { del=1204 dur=0.27303 amp=20.9}\n",
      "\tinsert IClamp { del=1232 dur=0.27303 amp=20.9}\n",
      "\tinsert IClamp { del=1260 dur=0.27303 amp=20.9}\n",
      "\tinsert IClamp { del=1288 dur=0.27303 amp=20.9}\n",
      "\tinsert IClamp { del=1316 dur=0.27303 amp=20.9}\n",
      "\tinsert IClamp { del=1344 dur=0.27303 amp=20.9}\n",
      "\tinsert IClamp { del=1372 dur=0.27303 amp=20.9}\n",
      "\tinsert IClamp { del=1400 dur=0.27303 amp=20.9}\n",
      "\tinsert IClamp { del=1428 dur=0.27303 amp=20.9}\n",
      "\tinsert IClamp { del=1456 dur=0.27303 amp=20.9}\n",
      "\tinsert IClamp { del=1484 dur=0.27303 amp=20.9}\n",
      "\tinsert IClamp { del=1512 dur=0.27303 amp=20.9}\n",
      "\tinsert IClamp { del=1540 dur=0.27303 amp=20.9}\n",
      "\tinsert IClamp { del=1568 dur=0.27303 amp=20.9}\n",
      "\tinsert IClamp { del=1596 dur=0.27303 amp=20.9}\n",
      "\tinsert IClamp { del=1624 dur=0.27303 amp=20.9}\n",
      "\tinsert IClamp { del=1652 dur=0.27303 amp=20.9}\n",
      "\tinsert IClamp { del=1680 dur=0.27303 amp=20.9}\n",
      "\tinsert IClamp { del=1708 dur=0.27303 amp=20.9}\n",
      "\tinsert IClamp { del=1736 dur=0.27303 amp=20.9}\n",
      "\tinsert IClamp { del=1764 dur=0.27303 amp=20.9}\n",
      "\tinsert IClamp { del=1792 dur=0.27303 amp=20.9}\n",
      "\tinsert IClamp { del=1820 dur=0.27303 amp=20.9}\n",
      "\tinsert IClamp { del=1848 dur=0.27303 amp=20.9}\n",
      "\tinsert IClamp { del=1876 dur=0.27303 amp=20.9}\n",
      "\tinsert IClamp { del=1904 dur=0.27303 amp=20.9}\n",
      "\tinsert IClamp { del=1932 dur=0.27303 amp=20.9}\n",
      "\tinsert IClamp { del=1960 dur=0.27303 amp=20.9}\n",
      "\tinsert IClamp { del=1988 dur=0.27303 amp=20.9}\n",
      "\tinsert IClamp { del=2016 dur=0.27303 amp=20.9}\n",
      "\tinsert IClamp { del=2044 dur=0.27303 amp=20.9}\n",
      "\tinsert IClamp { del=2072 dur=0.27303 amp=20.9}\n",
      "\tinsert IClamp { del=2100 dur=0.27303 amp=20.9}\n",
      "\tinsert IClamp { del=2128 dur=0.27303 amp=20.9}\n",
      "\tinsert IClamp { del=2156 dur=0.27303 amp=20.9}\n",
      "\tinsert IClamp { del=2184 dur=0.27303 amp=20.9}\n",
      "\tinsert IClamp { del=2212 dur=0.27303 amp=20.9}\n",
      "\tinsert IClamp { del=2240 dur=0.27303 amp=20.9}\n",
      "\tinsert IClamp { del=2268 dur=0.27303 amp=20.9}\n",
      "\tinsert IClamp { del=2296 dur=0.27303 amp=20.9}\n",
      "\tinsert IClamp { del=2324 dur=0.27303 amp=20.9}\n",
      "\tinsert IClamp { del=2352 dur=0.27303 amp=20.9}\n",
      "\tinsert IClamp { del=2380 dur=0.27303 amp=20.9}\n",
      "\tinsert IClamp { del=2408 dur=0.27303 amp=20.9}\n",
      "\tinsert IClamp { del=2436 dur=0.27303 amp=20.9}\n",
      "\tinsert IClamp { del=2464 dur=0.27303 amp=20.9}\n",
      "\tinsert IClamp { del=2492 dur=0.27303 amp=20.9}\n",
      "\tinsert IClamp { del=2520 dur=0.27303 amp=20.9}\n",
      "\tinsert IClamp { del=2548 dur=0.27303 amp=20.9}\n",
      "\tinsert IClamp { del=2576 dur=0.27303 amp=20.9}\n",
      "\tinsert IClamp { del=2604 dur=0.27303 amp=20.9}\n",
      "\tinsert IClamp { del=2632 dur=0.27303 amp=20.9}\n",
      "\tinsert IClamp { del=2660 dur=0.27303 amp=20.9}\n",
      "\tinsert IClamp { del=2688 dur=0.27303 amp=20.9}\n",
      "\tinsert IClamp { del=2716 dur=0.27303 amp=20.9}\n",
      "\tinsert IClamp { del=2744 dur=0.27303 amp=20.9}\n",
      "\tinsert IClamp { del=2772 dur=0.27303 amp=20.9}\n",
      "\tinsert IClamp { del=2800 dur=0.27303 amp=20.9}\n",
      "\tinsert IClamp { del=2828 dur=0.27303 amp=20.9}\n",
      "\tinsert IClamp { del=2856 dur=0.27303 amp=20.9}\n",
      "\tinsert IClamp { del=2884 dur=0.27303 amp=20.9}\n",
      "\tinsert IClamp { del=2912 dur=0.27303 amp=20.9}\n",
      "\tinsert IClamp { del=2940 dur=0.27303 amp=20.9}\n",
      "\tinsert IClamp { del=2968 dur=0.27303 amp=20.9}\n",
      "\tinsert IClamp { del=2996 dur=0.27303 amp=20.9}\n",
      "\tinsert IClamp { del=3024 dur=0.27303 amp=20.9}\n",
      "\tinsert IClamp { del=3052 dur=0.27303 amp=20.9}\n",
      "\tinsert IClamp { del=3080 dur=0.27303 amp=20.9}\n",
      "\tinsert IClamp { del=3108 dur=0.27303 amp=20.9}\n",
      "\tinsert IClamp { del=3136 dur=0.27303 amp=20.9}\n",
      "\tinsert IClamp { del=3164 dur=0.27303 amp=20.9}\n",
      "\tinsert IClamp { del=3192 dur=0.27303 amp=20.9}\n",
      "\tinsert IClamp { del=3220 dur=0.27303 amp=20.9}\n",
      "\tinsert IClamp { del=3248 dur=0.27303 amp=20.9}\n",
      "\tinsert IClamp { del=3276 dur=0.27303 amp=20.9}\n",
      "\tinsert IClamp { del=3304 dur=0.27303 amp=20.9}\n",
      "\tinsert IClamp { del=3332 dur=0.27303 amp=20.9}\n",
      "\tinsert IClamp { del=3360 dur=0.27303 amp=20.9}\n",
      "\tinsert IClamp { del=3388 dur=0.27303 amp=20.9}\n",
      "\tinsert IClamp { del=3416 dur=0.27303 amp=20.9}\n",
      "\tinsert IClamp { del=3444 dur=0.27303 amp=20.9}\n",
      "\tinsert IClamp { del=3472 dur=0.27303 amp=20.9}\n",
      "\tinsert IClamp { del=3500 dur=0.27303 amp=20.9}\n",
      "\tinsert IClamp { del=3528 dur=0.27303 amp=20.9}\n",
      "\tinsert IClamp { del=3556 dur=0.27303 amp=20.9}\n",
      "\tinsert IClamp { del=3584 dur=0.27303 amp=20.9}\n",
      "\tinsert IClamp { del=3612 dur=0.27303 amp=20.9}\n",
      "\tinsert IClamp { del=3640 dur=0.27303 amp=20.9}\n",
      "\tinsert IClamp { del=3668 dur=0.27303 amp=20.9}\n",
      "\tinsert IClamp { del=3696 dur=0.27303 amp=20.9}\n",
      "\tinsert IClamp { del=3724 dur=0.27303 amp=20.9}\n",
      "\tinsert IClamp { del=3752 dur=0.27303 amp=20.9}\n",
      "\tinsert IClamp { del=3780 dur=0.27303 amp=20.9}\n",
      "\tinsert IClamp { del=3808 dur=0.27303 amp=20.9}\n",
      "\tinsert IClamp { del=3836 dur=0.27303 amp=20.9}\n",
      "\tinsert IClamp { del=3864 dur=0.27303 amp=20.9}\n",
      "\tinsert IClamp { del=3892 dur=0.27303 amp=20.9}\n",
      "\tinsert IClamp { del=3920 dur=0.27303 amp=20.9}\n",
      "\tinsert IClamp { del=3948 dur=0.27303 amp=20.9}\n",
      "\tinsert IClamp { del=3976 dur=0.27303 amp=20.9}\n",
      "\tinsert IClamp { del=4004 dur=0.27303 amp=20.9}\n",
      "\tinsert IClamp { del=4032 dur=0.27303 amp=20.9}\n",
      "\tinsert IClamp { del=4060 dur=0.27303 amp=20.9}\n",
      "\tinsert IClamp { del=4088 dur=0.27303 amp=20.9}\n",
      "\tinsert IClamp { del=4116 dur=0.27303 amp=20.9}\n",
      "\tinsert IClamp { del=4144 dur=0.27303 amp=20.9}\n",
      "\tinsert IClamp { del=4172 dur=0.27303 amp=20.9}\n",
      "\tinsert IClamp { del=4200 dur=0.27303 amp=20.9}\n",
      "\tinsert IClamp { del=4228 dur=0.27303 amp=20.9}\n",
      "\tinsert IClamp { del=4256 dur=0.27303 amp=20.9}\n",
      "\tinsert IClamp { del=4284 dur=0.27303 amp=20.9}\n",
      "\tinsert IClamp { del=4312 dur=0.27303 amp=20.9}\n",
      "\tinsert IClamp { del=4340 dur=0.27303 amp=20.9}\n",
      "\tinsert IClamp { del=4368 dur=0.27303 amp=20.9}\n",
      "\tinsert IClamp { del=4396 dur=0.27303 amp=20.9}\n",
      "\tinsert IClamp { del=4424 dur=0.27303 amp=20.9}\n",
      "\tinsert IClamp { del=4452 dur=0.27303 amp=20.9}\n",
      "\tinsert IClamp { del=4480 dur=0.27303 amp=20.9}\n",
      "\tinsert IClamp { del=4508 dur=0.27303 amp=20.9}\n",
      "\tinsert IClamp { del=4536 dur=0.27303 amp=20.9}\n",
      "\tinsert IClamp { del=4564 dur=0.27303 amp=20.9}\n",
      "\tinsert IClamp { del=4592 dur=0.27303 amp=20.9}\n",
      "\tinsert IClamp { del=4620 dur=0.27303 amp=20.9}\n",
      "\tinsert IClamp { del=4648 dur=0.27303 amp=20.9}\n",
      "\tinsert IClamp { del=4676 dur=0.27303 amp=20.9}\n",
      "\tinsert IClamp { del=4704 dur=0.27303 amp=20.9}\n",
      "\tinsert IClamp { del=4732 dur=0.27303 amp=20.9}\n",
      "\tinsert IClamp { del=4760 dur=0.27303 amp=20.9}\n",
      "\tinsert IClamp { del=4788 dur=0.27303 amp=20.9}\n",
      "\tinsert IClamp { del=4816 dur=0.27303 amp=20.9}\n",
      "\tinsert IClamp { del=4844 dur=0.27303 amp=20.9}\n",
      "\tinsert IClamp { del=4872 dur=0.27303 amp=20.9}\n",
      "\tinsert IClamp { del=4900 dur=0.27303 amp=20.9}\n",
      "\tinsert IClamp { del=4928 dur=0.27303 amp=20.9}\n",
      "\tinsert IClamp { del=4956 dur=0.27303 amp=20.9}\n",
      "\tinsert IClamp { del=4984 dur=0.27303 amp=20.9}\n",
      "\tinsert IClamp { del=5012 dur=0.27303 amp=20.9}\n",
      "\tinsert IClamp { del=5040 dur=0.27303 amp=20.9}\n",
      "\tinsert IClamp { del=5068 dur=0.27303 amp=20.9}\n",
      "\tinsert IClamp { del=5096 dur=0.27303 amp=20.9}\n",
      "\tinsert IClamp { del=5124 dur=0.27303 amp=20.9}\n",
      "\tinsert IClamp { del=5152 dur=0.27303 amp=20.9}\n",
      "\tinsert IClamp { del=5180 dur=0.27303 amp=20.9}\n",
      "\tinsert IClamp { del=5208 dur=0.27303 amp=20.9}\n",
      "\tinsert IClamp { del=5236 dur=0.27303 amp=20.9}\n",
      "\tinsert IClamp { del=5264 dur=0.27303 amp=20.9}\n",
      "\tinsert IClamp { del=5292 dur=0.27303 amp=20.9}\n",
      "\tinsert IClamp { del=5320 dur=0.27303 amp=20.9}\n",
      "\tinsert IClamp { del=5348 dur=0.27303 amp=20.9}\n",
      "\tinsert IClamp { del=5376 dur=0.27303 amp=20.9}\n",
      "\tinsert IClamp { del=5404 dur=0.27303 amp=20.9}\n",
      "\tinsert IClamp { del=5432 dur=0.27303 amp=20.9}\n",
      "\tinsert IClamp { del=5460 dur=0.27303 amp=20.9}\n",
      "\tinsert IClamp { del=5488 dur=0.27303 amp=20.9}\n",
      "\tinsert IClamp { del=5516 dur=0.27303 amp=20.9}\n",
      "\tinsert IClamp { del=5544 dur=0.27303 amp=20.9}\n",
      "\tinsert IClamp { del=5572 dur=0.27303 amp=20.9}\n",
      "\tinsert IClamp { del=5600 dur=0.27303 amp=20.9}\n",
      "\tinsert IClamp { del=5628 dur=0.27303 amp=20.9}\n",
      "\tinsert IClamp { del=5656 dur=0.27303 amp=20.9}\n",
      "\tinsert IClamp { del=5684 dur=0.27303 amp=20.9}\n",
      "\tinsert IClamp { del=5712 dur=0.27303 amp=20.9}\n",
      "\tinsert IClamp { del=5740 dur=0.27303 amp=20.9}\n",
      "\tinsert IClamp { del=5768 dur=0.27303 amp=20.9}\n",
      "\tinsert IClamp { del=5796 dur=0.27303 amp=20.9}\n",
      "\tinsert IClamp { del=5824 dur=0.27303 amp=20.9}\n",
      "\tinsert IClamp { del=5852 dur=0.27303 amp=20.9}\n",
      "\tinsert IClamp { del=5880 dur=0.27303 amp=20.9}\n",
      "\tinsert IClamp { del=5908 dur=0.27303 amp=20.9}\n",
      "\tinsert IClamp { del=5936 dur=0.27303 amp=20.9}\n",
      "\tinsert IClamp { del=5964 dur=0.27303 amp=20.9}\n",
      "\tinsert IClamp { del=5992 dur=0.27303 amp=20.9}\n",
      "\tinsert IClamp { del=6020 dur=0.27303 amp=20.9}\n",
      "\tinsert IClamp { del=6048 dur=0.27303 amp=20.9}\n",
      "\tinsert IClamp { del=6076 dur=0.27303 amp=20.9}\n",
      "\tinsert IClamp { del=6104 dur=0.27303 amp=20.9}\n",
      "\tinsert IClamp { del=6132 dur=0.27303 amp=20.9}\n",
      "\tinsert IClamp { del=6160 dur=0.27303 amp=20.9}\n",
      "\tinsert IClamp { del=6188 dur=0.27303 amp=20.9}\n",
      "\tinsert IClamp { del=6216 dur=0.27303 amp=20.9}\n",
      "\tinsert IClamp { del=6244 dur=0.27303 amp=20.9}\n",
      "\tinsert IClamp { del=6272 dur=0.27303 amp=20.9}\n",
      "\tinsert IClamp { del=6300 dur=0.27303 amp=20.9}\n",
      "\tinsert IClamp { del=6328 dur=0.27303 amp=20.9}\n",
      "\tinsert IClamp { del=6356 dur=0.27303 amp=20.9}\n",
      "\tinsert IClamp { del=6384 dur=0.27303 amp=20.9}\n",
      "\tinsert IClamp { del=6412 dur=0.27303 amp=20.9}\n",
      "\tinsert IClamp { del=6440 dur=0.27303 amp=20.9}\n",
      "\tinsert IClamp { del=6468 dur=0.27303 amp=20.9}\n",
      "\tinsert IClamp { del=6496 dur=0.27303 amp=20.9}\n",
      "\tinsert IClamp { del=6524 dur=0.27303 amp=20.9}\n",
      "\tinsert IClamp { del=6552 dur=0.27303 amp=20.9}\n",
      "\tinsert IClamp { del=6580 dur=0.27303 amp=20.9}\n",
      "\tinsert IClamp { del=6608 dur=0.27303 amp=20.9}\n",
      "\tinsert IClamp { del=6636 dur=0.27303 amp=20.9}\n",
      "\tinsert IClamp { del=6664 dur=0.27303 amp=20.9}\n",
      "\tinsert IClamp { del=6692 dur=0.27303 amp=20.9}\n",
      "\tinsert IClamp { del=6720 dur=0.27303 amp=20.9}\n",
      "\tinsert IClamp { del=6748 dur=0.27303 amp=20.9}\n",
      "\tinsert IClamp { del=6776 dur=0.27303 amp=20.9}\n",
      "\tinsert IClamp { del=6804 dur=0.27303 amp=20.9}\n",
      "\tinsert IClamp { del=6832 dur=0.27303 amp=20.9}\n",
      "\tinsert IClamp { del=6860 dur=0.27303 amp=20.9}\n",
      "\tinsert IClamp { del=6888 dur=0.27303 amp=20.9}\n",
      "\tinsert IClamp { del=6916 dur=0.27303 amp=20.9}\n",
      "\tinsert IClamp { del=6944 dur=0.27303 amp=20.9}\n",
      "\tinsert IClamp { del=6972 dur=0.27303 amp=20.9}\n",
      "\tinsert IClamp { del=7000 dur=0.27303 amp=20.9}\n",
      "\tinsert IClamp { del=7028 dur=0.27303 amp=20.9}\n",
      "\tinsert IClamp { del=7056 dur=0.27303 amp=20.9}\n",
      "\tinsert IClamp { del=7084 dur=0.27303 amp=20.9}\n",
      "\tinsert IClamp { del=7112 dur=0.27303 amp=20.9}\n",
      "\tinsert IClamp { del=7140 dur=0.27303 amp=20.9}\n",
      "\tinsert IClamp { del=7168 dur=0.27303 amp=20.9}\n",
      "\tinsert IClamp { del=7196 dur=0.27303 amp=20.9}\n",
      "\tinsert IClamp { del=7224 dur=0.27303 amp=20.9}\n",
      "\tinsert IClamp { del=7252 dur=0.27303 amp=20.9}\n",
      "\tinsert IClamp { del=7280 dur=0.27303 amp=20.9}\n",
      "\tinsert IClamp { del=7308 dur=0.27303 amp=20.9}\n",
      "\tinsert IClamp { del=7336 dur=0.27303 amp=20.9}\n",
      "\tinsert IClamp { del=7364 dur=0.27303 amp=20.9}\n",
      "\tinsert IClamp { del=7392 dur=0.27303 amp=20.9}\n",
      "\tinsert IClamp { del=7420 dur=0.27303 amp=20.9}\n",
      "\tinsert IClamp { del=7448 dur=0.27303 amp=20.9}\n",
      "\tinsert IClamp { del=7476 dur=0.27303 amp=20.9}\n",
      "\tinsert IClamp { del=7504 dur=0.27303 amp=20.9}\n",
      "\tinsert IClamp { del=7532 dur=0.27303 amp=20.9}\n",
      "\tinsert IClamp { del=7560 dur=0.27303 amp=20.9}\n",
      "\tinsert IClamp { del=7588 dur=0.27303 amp=20.9}\n",
      "\tinsert IClamp { del=7616 dur=0.27303 amp=20.9}\n",
      "\tinsert IClamp { del=7644 dur=0.27303 amp=20.9}\n",
      "\tinsert IClamp { del=7672 dur=0.27303 amp=20.9}\n",
      "\tinsert IClamp { del=7700 dur=0.27303 amp=20.9}\n",
      "\tinsert IClamp { del=7728 dur=0.27303 amp=20.9}\n",
      "\tinsert IClamp { del=7756 dur=0.27303 amp=20.9}\n",
      "\tinsert IClamp { del=7784 dur=0.27303 amp=20.9}\n",
      "\tinsert IClamp { del=7812 dur=0.27303 amp=20.9}\n",
      "\tinsert IClamp { del=7840 dur=0.27303 amp=20.9}\n",
      "\tinsert IClamp { del=7868 dur=0.27303 amp=20.9}\n",
      "\tinsert IClamp { del=7896 dur=0.27303 amp=20.9}\n",
      "\tinsert IClamp { del=7924 dur=0.27303 amp=20.9}\n",
      "\tinsert IClamp { del=7952 dur=0.27303 amp=20.9}\n",
      "\tinsert IClamp { del=7980 dur=0.27303 amp=20.9}\n",
      "\tinsert IClamp { del=8008 dur=0.27303 amp=20.9}\n",
      "\tinsert IClamp { del=8036 dur=0.27303 amp=20.9}\n",
      "\tinsert IClamp { del=8064 dur=0.27303 amp=20.9}\n",
      "\tinsert IClamp { del=8092 dur=0.27303 amp=20.9}\n",
      "\tinsert IClamp { del=8120 dur=0.27303 amp=20.9}\n",
      "\tinsert IClamp { del=8148 dur=0.27303 amp=20.9}\n",
      "\tinsert IClamp { del=8176 dur=0.27303 amp=20.9}\n",
      "\tinsert IClamp { del=8204 dur=0.27303 amp=20.9}\n",
      "\tinsert IClamp { del=8232 dur=0.27303 amp=20.9}\n",
      "\tinsert IClamp { del=8260 dur=0.27303 amp=20.9}\n",
      "\tinsert IClamp { del=8288 dur=0.27303 amp=20.9}\n",
      "\tinsert IClamp { del=8316 dur=0.27303 amp=20.9}\n",
      "\tinsert IClamp { del=8344 dur=0.27303 amp=20.9}\n",
      "\tinsert IClamp { del=8372 dur=0.27303 amp=20.9}\n",
      "\tinsert IClamp { del=8400 dur=0.27303 amp=20.9}\n",
      "\tinsert IClamp { del=8428 dur=0.27303 amp=20.9}\n",
      "\tinsert IClamp { del=8456 dur=0.27303 amp=20.9}\n",
      "\tinsert IClamp { del=8484 dur=0.27303 amp=20.9}\n",
      "\tinsert IClamp { del=8512 dur=0.27303 amp=20.9}\n",
      "\tinsert IClamp { del=8540 dur=0.27303 amp=20.9}\n",
      "\tinsert IClamp { del=8568 dur=0.27303 amp=20.9}\n",
      "\tinsert IClamp { del=8596 dur=0.27303 amp=20.9}\n",
      "\tinsert IClamp { del=8624 dur=0.27303 amp=20.9}\n",
      "\tinsert IClamp { del=8652 dur=0.27303 amp=20.9}\n",
      "\tinsert IClamp { del=8680 dur=0.27303 amp=20.9}\n",
      "\tinsert IClamp { del=8708 dur=0.27303 amp=20.9}\n",
      "\tinsert IClamp { del=8736 dur=0.27303 amp=20.9}\n",
      "\tinsert IClamp { del=8764 dur=0.27303 amp=20.9}\n",
      "\tinsert IClamp { del=8792 dur=0.27303 amp=20.9}\n",
      "\tinsert IClamp { del=8820 dur=0.27303 amp=20.9}\n",
      "\tinsert IClamp { del=8848 dur=0.27303 amp=20.9}\n",
      "\tinsert IClamp { del=8876 dur=0.27303 amp=20.9}\n",
      "\tinsert IClamp { del=8904 dur=0.27303 amp=20.9}\n",
      "\tinsert IClamp { del=8932 dur=0.27303 amp=20.9}\n",
      "\tinsert IClamp { del=8960 dur=0.27303 amp=20.9}\n",
      "\tinsert IClamp { del=8988 dur=0.27303 amp=20.9}\n",
      "\tinsert IClamp { del=9016 dur=0.27303 amp=20.9}\n",
      "\tinsert IClamp { del=9044 dur=0.27303 amp=20.9}\n",
      "\tinsert IClamp { del=9072 dur=0.27303 amp=20.9}\n",
      "\tinsert IClamp { del=9100 dur=0.27303 amp=20.9}\n",
      "\tinsert IClamp { del=9128 dur=0.27303 amp=20.9}\n",
      "\tinsert IClamp { del=9156 dur=0.27303 amp=20.9}\n",
      "\tinsert IClamp { del=9184 dur=0.27303 amp=20.9}\n",
      "\tinsert IClamp { del=9212 dur=0.27303 amp=20.9}\n",
      "\tinsert IClamp { del=9240 dur=0.27303 amp=20.9}\n",
      "\tinsert IClamp { del=9268 dur=0.27303 amp=20.9}\n",
      "\tinsert IClamp { del=9296 dur=0.27303 amp=20.9}\n",
      "\tinsert IClamp { del=9324 dur=0.27303 amp=20.9}\n",
      "\tinsert IClamp { del=9352 dur=0.27303 amp=20.9}\n",
      "\tinsert IClamp { del=9380 dur=0.27303 amp=20.9}\n",
      "\tinsert IClamp { del=9408 dur=0.27303 amp=20.9}\n",
      "\tinsert IClamp { del=9436 dur=0.27303 amp=20.9}\n",
      "\tinsert IClamp { del=9464 dur=0.27303 amp=20.9}\n",
      "\tinsert IClamp { del=9492 dur=0.27303 amp=20.9}\n",
      "\tinsert IClamp { del=9520 dur=0.27303 amp=20.9}\n",
      "\tinsert IClamp { del=9548 dur=0.27303 amp=20.9}\n",
      "\tinsert IClamp { del=9576 dur=0.27303 amp=20.9}\n",
      "\tinsert IClamp { del=9604 dur=0.27303 amp=20.9}\n",
      "\tinsert IClamp { del=9632 dur=0.27303 amp=20.9}\n",
      "\tinsert IClamp { del=9660 dur=0.27303 amp=20.9}\n",
      "\tinsert IClamp { del=9688 dur=0.27303 amp=20.9}\n",
      "\tinsert IClamp { del=9716 dur=0.27303 amp=20.9}\n",
      "\tinsert IClamp { del=9744 dur=0.27303 amp=20.9}\n",
      "\tinsert IClamp { del=9772 dur=0.27303 amp=20.9}\n",
      "\tinsert IClamp { del=9800 dur=0.27303 amp=20.9}\n",
      "\tinsert IClamp { del=9828 dur=0.27303 amp=20.9}\n",
      "\tinsert IClamp { del=9856 dur=0.27303 amp=20.9}\n",
      "\tinsert IClamp { del=9884 dur=0.27303 amp=20.9}\n",
      "\tinsert IClamp { del=9912 dur=0.27303 amp=20.9}\n",
      "\tinsert IClamp { del=9940 dur=0.27303 amp=20.9}\n",
      "\tinsert IClamp { del=9968 dur=0.27303 amp=20.9}\n",
      "}\n"
     ]
    }
   ],
   "source": [
    "h.dt=0.01\n",
    "#soma.insert('hhCN')  # This inserts two voltage-dependent conductances (Na, K) into the simulated membrane\n",
    "h.psection()\n",
    "v_vec = h.Vector()             # Membrane potential vector is created here\n",
    "t_vec = h.Vector()             # Time stamp vector is created here\n",
    "'''\n",
    "v_vec_AIS = h.Vector()             # Membrane potential vector is created here\n",
    "v_vec_ax = h.Vector() \n",
    "v_vec_ax1 = h.Vector() \n",
    "v_vec_ax2 = h.Vector() \n",
    "v_vec_ax3 = h.Vector() \n",
    "v_vec_ax4 = h.Vector() \n",
    "v_vec_axMiddle = h.Vector() \n",
    "m_som = h.Vector()             # Open Na gate variable vector is created here\n",
    "h_som = h.Vector()             # Inactivation gate variable vector is created here\n",
    "n_som = h.Vector()             # Open K gate variable vector is created here\n",
    "m_som.record(soma(0.5).WBCN._ref_m) # The appropriate state-variable is linked to the vector\n",
    "h_som.record(soma(0.5).WBCN._ref_h) # The appropriate state-variable is linked to the vector\n",
    "n_som.record(soma(0.5).WBCN._ref_n) # The appropriate state-variable is linked to the vector\n",
    "m_AIS = h.Vector()             # Open Na gate variable vector is created here\n",
    "h_AIS = h.Vector()             # Inactivation gate variable vector is created here\n",
    "n_AIS = h.Vector()             # Open K gate variable vector is created here\n",
    "m_AIS.record(axon(0.005).WBCN._ref_m) # The appropriate state-variable is linked to the vector\n",
    "h_AIS.record(axon(0.005).WBCN._ref_h) # The appropriate state-variable is linked to the vector\n",
    "n_AIS.record(axon(0.005).WBCN._ref_n) # The appropriate state-variable is linked to the vector\n",
    "m_midd = h.Vector()             # Open Na gate variable vector is created here\n",
    "h_midd = h.Vector()             # Inactivation gate variable vector is created here\n",
    "n_midd = h.Vector()             # Open K gate variable vector is created here\n",
    "m_midd.record(axon(0.5050000000000002).WBCN._ref_m) # The appropriate state-variable is linked to the vector\n",
    "h_midd.record(axon(0.5050000000000002).WBCN._ref_h) # The appropriate state-variable is linked to the vector\n",
    "n_midd.record(axon(0.5050000000000002).WBCN._ref_n) # The appropriate state-variable is linked to the vector\n",
    "m_end = h.Vector()             # Open Na gate variable vector is created here\n",
    "h_end = h.Vector()             # Inactivation gate variable vector is created here\n",
    "n_end = h.Vector()             # Open K gate variable vector is created here\n",
    "m_end.record(axon(0.9950000000000007).WBCN._ref_m) # The appropriate state-variable is linked to the vector\n",
    "h_end.record(axon(0.9950000000000007).WBCN._ref_h) # The appropriate state-variable is linked to the vector\n",
    "n_end.record(axon(0.9950000000000007).WBCN._ref_n) # The appropriate state-variable is linked to the vector\n",
    "v_vec.record(soma(0.5)._ref_v) # The voltage of the soma section is linked to the vector v_vec\n",
    "v_vec_AIS.record(axon(0.005)._ref_v) # The appropriate state-variable is linked to the vector\n",
    "v_vec_ax1.record(axon(0.20500000000000004)._ref_v)\n",
    "v_vec_ax2.record(axon(0.4050000000000002)._ref_v)\n",
    "v_vec_ax3.record(axon(0.6050000000000003)._ref_v)\n",
    "v_vec_ax4.record(axon(0.8050000000000005)._ref_v)\n",
    "v_vec_ax.record(axon(0.9950000000000007)._ref_v)\n",
    "v_vec_axMiddle.record(axon(0.5050000000000002)._ref_v)\n",
    "'''\n",
    "v_vec.record(soma(0.5)._ref_v)\n",
    "t_vec.record(h._ref_t)         # The absolute time of the simulation is linked to the vector t_vec\n",
    "\n",
    "h.v_init = -60                # Let's set the initial condition of the membrane potential\n",
    "\n",
    "h.t     =   0.0               # Let's reset the initial time of the simulation to 0 ms\n",
    "h.tstop = float(tot)   "
   ]
  },
  {
   "cell_type": "code",
   "execution_count": 27,
   "metadata": {},
   "outputs": [
    {
     "name": "stdout",
     "output_type": "stream",
     "text": [
      "Changed dt\n"
     ]
    },
    {
     "data": {
      "text/plain": [
       "0.0"
      ]
     },
     "execution_count": 27,
     "metadata": {},
     "output_type": "execute_result"
    }
   ],
   "source": [
    "h.run()"
   ]
  },
  {
   "cell_type": "markdown",
   "metadata": {},
   "source": [
    "### Simulation results"
   ]
  },
  {
   "cell_type": "code",
   "execution_count": 28,
   "metadata": {},
   "outputs": [
    {
     "data": {
      "text/plain": [
       "<matplotlib.legend.Legend at 0x1a26293510>"
      ]
     },
     "execution_count": 28,
     "metadata": {},
     "output_type": "execute_result"
    },
    {
     "data": {
      "image/png": "[encoded data removed]",
      "text/plain": [
       "<Figure size 432x288 with 1 Axes>"
      ]
     },
     "metadata": {
      "needs_background": "light"
     },
     "output_type": "display_data"
    }
   ],
   "source": [
    "plt.plot(t_vec, v_vec,label=\"soma\")\n",
    "#plt.plot(t_vec, v_vec_AIS,label=\"AIS\")\n",
    "#plt.plot(t_vec, v_vec_ax,label=\"axon end\")\n",
    "plt.xlabel('time (ms)')\n",
    "plt.title('Delay record along the axon')\n",
    "plt.ylabel('Voltage (mV)')\n",
    "plt.legend(loc=\"upper right\")\n",
    "#plt.xlim(0,2)\n",
    "#plt.savefig(\"soma_axon/voltage_delay1.png\",bbox_inches='tight')"
   ]
  },
  {
   "cell_type": "code",
   "execution_count": 67,
   "metadata": {
    "scrolled": true
   },
   "outputs": [
    {
     "data": {
      "text/plain": [
       "Text(0, 0.5, 'Voltage (mV)')"
      ]
     },
     "execution_count": 67,
     "metadata": {},
     "output_type": "execute_result"
    },
    {
     "data": {
      "image/png": "[encoded data removed]",
      "text/plain": [
       "<Figure size 432x288 with 1 Axes>"
      ]
     },
     "metadata": {
      "needs_background": "light"
     },
     "output_type": "display_data"
    }
   ],
   "source": [
    "plt.plot(t_vec, v_vec)\n",
    "plt.xlabel('time (ms)')\n",
    "plt.title('Input middle axon & Output soma_x=0.5,I=0.65 uA, NNa=6000,Nk=1800')\n",
    "plt.ylabel('Voltage (mV)')\n",
    "#plt.savefig(\"soma_axon/middle_soma_in/voltage_soma.png\",bbox_inches='tight')\n",
    "#plt.show()"
   ]
  },
  {
   "cell_type": "code",
   "execution_count": 68,
   "metadata": {},
   "outputs": [
    {
     "data": {
      "text/plain": [
       "Text(0, 0.5, 'Voltage (mV)')"
      ]
     },
     "execution_count": 68,
     "metadata": {},
     "output_type": "execute_result"
    },
    {
     "data": {
      "image/png": "[encoded data removed]",
      "text/plain": [
       "<Figure size 432x288 with 1 Axes>"
      ]
     },
     "metadata": {
      "needs_background": "light"
     },
     "output_type": "display_data"
    }
   ],
   "source": [
    "plt.plot(t_vec, v_vec_AIS)\n",
    "plt.xlabel('time (ms)')\n",
    "plt.title('Input middle axon & Output AIS,I=0.65 uA, NNa=60000,Nk=18000')\n",
    "plt.ylabel('Voltage (mV)')\n",
    "#plt.savefig(\"soma_axon/middle_soma_in/voltage_AIS.png\",bbox_inches='tight')\n",
    "#plt.show()"
   ]
  },
  {
   "cell_type": "code",
   "execution_count": 69,
   "metadata": {},
   "outputs": [
    {
     "data": {
      "text/plain": [
       "Text(0, 0.5, 'Voltage (mV)')"
      ]
     },
     "execution_count": 69,
     "metadata": {},
     "output_type": "execute_result"
    },
    {
     "data": {
      "image/png": "[encoded data removed]",
      "text/plain": [
       "<Figure size 432x288 with 1 Axes>"
      ]
     },
     "metadata": {
      "needs_background": "light"
     },
     "output_type": "display_data"
    }
   ],
   "source": [
    "plt.plot(t_vec, v_vec_ax4)\n",
    "plt.xlabel('time (ms)')\n",
    "plt.title('Input middle axon & Output axon (0.8),I=0.65 uA, NNa=6000,Nk=1800')\n",
    "plt.ylabel('Voltage (mV)')\n",
    "#plt.savefig(\"soma_axon/middle_soma_in/voltage_0.8_axon.png\",bbox_inches='tight')"
   ]
  },
  {
   "cell_type": "code",
   "execution_count": 70,
   "metadata": {},
   "outputs": [
    {
     "data": {
      "text/plain": [
       "Text(0, 0.5, 'Voltage (mV)')"
      ]
     },
     "execution_count": 70,
     "metadata": {},
     "output_type": "execute_result"
    },
    {
     "data": {
      "image/png": "[encoded data removed]",
      "text/plain": [
       "<Figure size 432x288 with 1 Axes>"
      ]
     },
     "metadata": {
      "needs_background": "light"
     },
     "output_type": "display_data"
    }
   ],
   "source": [
    "plt.plot(t_vec, v_vec_axMiddle)\n",
    "plt.xlabel('time (ms)')\n",
    "plt.title('Input middle axon & Output middle axon,I=0.65 uA, NNa=6000,Nk=1800')\n",
    "plt.ylabel('Voltage (mV)')\n",
    "#plt.savefig(\"soma_axon/middle_soma_in/voltage_axonMiddle.png\",bbox_inches='tight')"
   ]
  },
  {
   "cell_type": "markdown",
   "metadata": {},
   "source": [
    "### Channels"
   ]
  },
  {
   "cell_type": "code",
   "execution_count": 20,
   "metadata": {},
   "outputs": [
    {
     "data": {
      "text/plain": [
       "(0, 100)"
      ]
     },
     "execution_count": 20,
     "metadata": {},
     "output_type": "execute_result"
    },
    {
     "data": {
      "image/png": "[encoded data removed]",
      "text/plain": [
       "<Figure size 432x288 with 1 Axes>"
      ]
     },
     "metadata": {
      "needs_background": "light"
     },
     "output_type": "display_data"
    }
   ],
   "source": [
    "plt.plot(t_vec, m_som * m_som * m_som * h_som , t_vec, n_som * n_som * n_som * n_som)\n",
    "#plt.plot(t_vec, m_AIS * m_AIS * m_AIS * h_AIS , t_vec, n_AIS * n_AIS * n_AIS * n_AIS)\n",
    "plt.xlabel('time (ms)')\n",
    "plt.ylabel('Fraction of Na and K channels in the open state')\n",
    "plt.legend(('hm^3', 'n^4'),loc=\"best\")\n",
    "plt.xlim(0,100)\n",
    "#plt.show()\n",
    "#plt.savefig(\"soma/fract_100.png\",bbox_inches = \"tight\")"
   ]
  },
  {
   "cell_type": "code",
   "execution_count": 21,
   "metadata": {},
   "outputs": [
    {
     "data": {
      "text/plain": [
       "(0, 100)"
      ]
     },
     "execution_count": 21,
     "metadata": {},
     "output_type": "execute_result"
    },
    {
     "data": {
      "image/png": "[encoded data removed]",
      "text/plain": [
       "<Figure size 432x288 with 1 Axes>"
      ]
     },
     "metadata": {
      "needs_background": "light"
     },
     "output_type": "display_data"
    }
   ],
   "source": [
    "plt.plot(t_vec, n_AIS)\n",
    "plt.plot(t_vec, m_AIS)\n",
    "plt.plot(t_vec, h_AIS)\n",
    "plt.xlabel('time (ms)')\n",
    "plt.ylabel('mV')\n",
    "plt.legend(('K', 'Na_act', 'Na_in'))\n",
    "plt.xlim(0,100)\n",
    "#plt.show()\n",
    "#plt.savefig(\"soma/chann_100.png\",bbox_inches = \"tight\")"
   ]
  },
  {
   "cell_type": "markdown",
   "metadata": {},
   "source": [
    "### Latency"
   ]
  },
  {
   "cell_type": "code",
   "execution_count": 29,
   "metadata": {},
   "outputs": [],
   "source": [
    "def Latency(v_vec,t_vec,n,freq):\n",
    "    v=np.array(v_vec).tolist()\n",
    "    t=np.array(t_vec)\n",
    "    t1=t.tolist()\n",
    "    t_out=[]\n",
    "    lat=[]\n",
    "    t_lat=[]\n",
    "    for i in range(0,n):\n",
    "        indx1=np.where(t > i*freq)[0][0]\n",
    "        indx2=np.where(t <(i*freq+freq))[0][-1]\n",
    "        aux=max(v[indx1:indx2])\n",
    "        if(aux>5):\n",
    "            aux_t=int(t1[v.index(aux)]/freq)*freq\n",
    "            lat.append(t1[v.index(aux)]-aux_t)\n",
    "            t_lat.append(aux_t/1000)\n",
    "    return lat,t_lat"
   ]
  },
  {
   "cell_type": "code",
   "execution_count": 30,
   "metadata": {},
   "outputs": [
    {
     "data": {
      "text/plain": [
       "'\\nlat_AIS,t_lat_AIS=Latency(v_vec_AIS,t_vec,n,freq)\\nlat_ax1,t_lat_ax1=Latency(v_vec_ax1,t_vec,n,freq)\\nlat_ax2,t_lat_ax2=Latency(v_vec_ax2,t_vec,n,freq)\\nlat_ax3,t_lat_ax3=Latency(v_vec_ax3,t_vec,n,freq)\\nlat_ax4,t_lat_ax4=Latency(v_vec_ax4,t_vec,n,freq)\\nlat_ax,t_lat_ax=Latency(v_vec_ax,t_vec,n,freq)\\nlat_axM,t_lat_axM=Latency(v_vec_axMiddle,t_vec,n,freq)\\n'"
      ]
     },
     "execution_count": 30,
     "metadata": {},
     "output_type": "execute_result"
    }
   ],
   "source": [
    "lat_soma,t_lat_soma=Latency(v_vec,t_vec,n,freq)\n",
    "'''\n",
    "lat_AIS,t_lat_AIS=Latency(v_vec_AIS,t_vec,n,freq)\n",
    "lat_ax1,t_lat_ax1=Latency(v_vec_ax1,t_vec,n,freq)\n",
    "lat_ax2,t_lat_ax2=Latency(v_vec_ax2,t_vec,n,freq)\n",
    "lat_ax3,t_lat_ax3=Latency(v_vec_ax3,t_vec,n,freq)\n",
    "lat_ax4,t_lat_ax4=Latency(v_vec_ax4,t_vec,n,freq)\n",
    "lat_ax,t_lat_ax=Latency(v_vec_ax,t_vec,n,freq)\n",
    "lat_axM,t_lat_axM=Latency(v_vec_axMiddle,t_vec,n,freq)\n",
    "'''"
   ]
  },
  {
   "cell_type": "code",
   "execution_count": 41,
   "metadata": {},
   "outputs": [
    {
     "data": {
      "image/png": "[encoded data removed]",
      "text/plain": [
       "<Figure size 1440x1440 with 1 Axes>"
      ]
     },
     "metadata": {
      "needs_background": "light"
     },
     "output_type": "display_data"
    }
   ],
   "source": [
    "plt.figure(figsize=(20,20))\n",
    "\n",
    "plt.plot(t_lat_soma, lat_soma, '.', color='darkred', label=\"soma\")\n",
    "\n",
    "'''\n",
    "plt.plot(t_lat_AIS, lat_AIS, '.', color='lightgreen', label=\"AIS\")\n",
    "plt.plot(t_lat_ax1, lat_ax1, '.', color='red', label=\"axon (0.2)\")\n",
    "plt.plot(t_lat_ax2, lat_ax2, '.', color='yellow', label=\"axon (0.4)\")\n",
    "plt.plot(t_lat_axM, lat_axM, '.', color='black', label=\"axon (0.5)\")\n",
    "plt.plot(t_lat_ax3, lat_ax3, '.', color='green', label=\"axon (0.6)\")\n",
    "plt.plot(t_lat_ax4, lat_ax4, '.', color='blue', label=\"axon (0.8)\")\n",
    "plt.plot(t_lat_ax, lat_ax, '.', color='pink', label=\"end axon\")\n",
    "#plt.plot(t_lat_L_1000, lat_L_1000, '.', color='yellow', label=\"diam=1000, I=41.8 uA\")\n",
    "#plt.plot(t_lat_60, lat_60, '.', color='purple', label=\"15 Hz\")\n",
    "#plt.plot(t_lat_100, lat_100, '.', color='pink', label=\"10 Hz\")\n",
    "#plt.plot(t_lat_200, lat_200, '.', color='lightblue', label=\"5 Hz\")\n",
    "#plt.plot(t_lat_1000, lat_1000, '.', color='black', label=\"1 Hz\")\n",
    "'''\n",
    "plt.xlabel('time (ms)')\n",
    "plt.ylabel('Latency (ms)')\n",
    "plt.title(' Soma Latency response phases freq=28 Hz')\n",
    "plt.legend(loc=\"lower right\")\n",
    "#plt.xlim(0,1)\n",
    "#plt.ylim(top=6)\n",
    "plt.savefig(\"graphs/electrical/soma/Latency_all.png\")"
   ]
  },
  {
   "cell_type": "markdown",
   "metadata": {},
   "source": [
    "#### Nspikes"
   ]
  },
  {
   "cell_type": "code",
   "execution_count": 88,
   "metadata": {},
   "outputs": [],
   "source": [
    "def Count(v_vec):\n",
    "    count=0\n",
    "    #Npeak=[]\n",
    "    Na=0\n",
    "    for i in range(0,len(v_vec)):\n",
    "        #Npeak.append(0)\n",
    "        if(count==0 and v_vec[i]>=-10.):\n",
    "            count=1\n",
    "            Na+=1;\n",
    "            #Npeak.append(1)\n",
    "        if(count==1 and v_vec[i]<-10.):\n",
    "            count=0\n",
    "            #Npeak.append(0)\n",
    "    return Na\n",
    "\n",
    "\n",
    "def Nspike(v_vec,t_vec,n,freq):\n",
    "    v=np.array(v_vec).tolist()\n",
    "    t=np.array(t_vec)\n",
    "    t1=t.tolist()\n",
    "    N_out=[]\n",
    "    for i in range(0,n):\n",
    "        indx1=np.where(t > i*freq)[0][0]\n",
    "        indx2=np.where(t <(i*freq+freq))[0][-1]\n",
    "        aux=v[indx1:indx2]\n",
    "        N_out.append(Count(aux))\n",
    "    t_out=[i for i in range(0,n)]\n",
    "    return N_out,t_out"
   ]
  },
  {
   "cell_type": "code",
   "execution_count": 89,
   "metadata": {},
   "outputs": [],
   "source": [
    "N_soma,t_soma=Nspike(v_vec,t_vec,20,1000)\n",
    "N_AIS,t_AIS=Nspike(v_vec_AIS,t_vec,20,1000)\n",
    "N_ax1,t_ax1=Nspike(v_vec_ax1,t_vec,20,1000)\n",
    "N_ax2,t_ax2=Nspike(v_vec_ax2,t_vec,20,1000)\n",
    "N_ax3,t_ax3=Nspike(v_vec_ax3,t_vec,20,1000)\n",
    "N_ax4,t_ax4=Nspike(v_vec_ax4,t_vec,20,1000)\n",
    "N_axend,t_axend=Nspike(v_vec_ax,t_vec,20,1000)\n",
    "N_axM,t_axM=Nspike(v_vec_axMiddle,t_vec,20,1000)"
   ]
  },
  {
   "cell_type": "code",
   "execution_count": 91,
   "metadata": {},
   "outputs": [
    {
     "data": {
      "image/png": "[encoded data removed]",
      "text/plain": [
       "<Figure size 432x288 with 1 Axes>"
      ]
     },
     "metadata": {
      "needs_background": "light"
     },
     "output_type": "display_data"
    }
   ],
   "source": [
    "plt.plot(t_soma,N_soma,color='aquamarine')\n",
    "plt.plot(t_AIS,N_AIS,color='lightgreen')\n",
    "plt.plot(t_ax1,N_ax1,color='red')\n",
    "plt.plot(t_ax2,N_ax2,color='yellow')\n",
    "plt.plot(t_axM,N_axM,color='black')\n",
    "plt.plot(t_ax3,N_ax3,color='green')\n",
    "plt.plot(t_ax4,N_ax4,color='blue')\n",
    "plt.plot(t_axend,N_axend,color='pink')\n",
    "#plt.plot(N_Spike_40.s, N_Spike_40.N,color='yellow')\n",
    "#plt.axvline(x=20, color='k', linestyle='--')\n",
    "plt.xticks(rotation=45)\n",
    "plt.legend([\"soma\",\"AIS\",\"axon(0.2)\",\"axon(0.4)\",\"axon(0.5)\",\"axon(0.6)\",\"axon(0.8)\",\"end axon\"])\n",
    "plt.title(\"Real soma+axon (I=0.65 uA, Middle axon input)\")\n",
    "#plt.title(\"Guler stochastic model (corrected variance,I=7.9 uA)\")\n",
    "plt.ylabel(\"Number Spikes\")\n",
    "plt.xlabel(\"time (sec)\")\n",
    "plt.savefig(\"soma_axon/middle_soma_in/Nspike.png\",bbox_inches = \"tight\")\n",
    "plt.show()"
   ]
  },
  {
   "cell_type": "markdown",
   "metadata": {},
   "source": [
    "#### peak Intensity"
   ]
  },
  {
   "cell_type": "code",
   "execution_count": 92,
   "metadata": {},
   "outputs": [],
   "source": [
    "def Intensity(v_vec,t_vec,n,freq):\n",
    "    v=np.array(v_vec).tolist()\n",
    "    t=np.array(t_vec)\n",
    "    t1=t.tolist()\n",
    "    t_out=[]\n",
    "    intens=[]\n",
    "    t_p=[]\n",
    "    for i in range(0,n):\n",
    "        indx1=np.where(t > i*freq)[0][0]\n",
    "        indx2=np.where(t <(i*freq+freq))[0][-1]\n",
    "        aux=max(v[indx1:indx2])\n",
    "        aux_t=int(t1[v.index(aux)]/freq)*freq\n",
    "        intens.append(aux)\n",
    "        t_p.append(aux_t/1000)\n",
    "    return intens,t_p"
   ]
  },
  {
   "cell_type": "code",
   "execution_count": 93,
   "metadata": {},
   "outputs": [],
   "source": [
    "int_soma,t_int_soma=Intensity(v_vec,t_vec,n,freq)\n",
    "int_AIS,t_int_AIS=Intensity(v_vec_AIS,t_vec,n,freq)\n",
    "int_ax,t_int_ax=Intensity(v_vec_ax,t_vec,n,freq)\n",
    "int_ax1,t_int_ax1=Intensity(v_vec_ax1,t_vec,n,freq)\n",
    "int_ax2,t_int_ax2=Intensity(v_vec_ax2,t_vec,n,freq)\n",
    "int_axM,t_int_axM=Intensity(v_vec_axMiddle,t_vec,n,freq)\n",
    "int_ax3,t_int_ax3=Intensity(v_vec_ax3,t_vec,n,freq)\n",
    "int_ax4,t_int_ax4=Intensity(v_vec_ax4,t_vec,n,freq)"
   ]
  },
  {
   "cell_type": "code",
   "execution_count": 99,
   "metadata": {},
   "outputs": [
    {
     "data": {
      "image/png": "[encoded data removed]",
      "text/plain": [
       "<Figure size 432x288 with 1 Axes>"
      ]
     },
     "metadata": {
      "needs_background": "light"
     },
     "output_type": "display_data"
    }
   ],
   "source": [
    "plt.hist(int_soma, bins=60,color = 'aquamarine',label = \"soma\")\n",
    "plt.hist(int_AIS, bins=60,color = 'lightgreen',label = \"AIS\")\n",
    "plt.hist(int_ax1, bins=60,color = 'red',label = \"axon (.2)\")\n",
    "plt.hist(int_ax2,bins=60,color = 'yellow',label = \"axon (.4)\")\n",
    "plt.hist(int_axM,bins=60,color = 'black',label = \"axon (.5)\")\n",
    "plt.hist(int_ax3,bins=60,color = 'green',label = \"axon (.6)\")\n",
    "plt.hist(int_ax4,bins=60,color = 'blue',label = \"axon (.8)\")\n",
    "plt.hist(int_ax,bins=60,color = 'pink',label = \"end axon\")\n",
    "\n",
    "plt.xticks(rotation=45)\n",
    "plt.legend(loc='center left', bbox_to_anchor=(1, 0.5))\n",
    "plt.title(\"Real soma+axon (I=0.65 uA, Middle axon input)\")\n",
    "plt.ylabel(\"count\")\n",
    "plt.xlabel(\"Spikes Intensity (mV)\")\n",
    "#plt.ylim([0,90])\n",
    "plt.xlim([0,45])\n",
    "plt.savefig(\"soma_axon/middle_soma_in/hist_Int_spike_som1.png\",bbox_inches = \"tight\")\n",
    "plt.show()"
   ]
  },
  {
   "cell_type": "markdown",
   "metadata": {},
   "source": [
    "### ISI"
   ]
  },
  {
   "cell_type": "code",
   "execution_count": 100,
   "metadata": {},
   "outputs": [],
   "source": [
    "def Spike_time(v_vec,t_vec,n,freq):\n",
    "    v=np.array(v_vec).tolist()\n",
    "    t=np.array(t_vec)\n",
    "    t1=t.tolist()\n",
    "    t_out=[]\n",
    "    for i in range(0,n):\n",
    "        indx1=np.where(t > i*freq)[0][0]\n",
    "        indx2=np.where(t <(i*freq+freq))[0][-1]\n",
    "        aux=max(v[indx1:indx2])\n",
    "        if(aux>5):\n",
    "            t_out.append(t1[v.index(aux)])\n",
    "    return t_out\n",
    "\n",
    "def ISI(v_vec,t_vec,n,freq):\n",
    "    t_spike=Spike_time(v_vec,t_vec,n,freq)\n",
    "    isi=[]\n",
    "    for i in range(len(t_spike)-1,0,-1):\n",
    "        isi.append(t_spike[i]-t_spike[i-1])\n",
    "    isi.reverse()\n",
    "    return isi"
   ]
  },
  {
   "cell_type": "code",
   "execution_count": 101,
   "metadata": {},
   "outputs": [],
   "source": [
    "isi_soma=ISI(v_vec,t_vec,n,freq)\n",
    "isi_AIS=ISI(v_vec_AIS,t_vec,n,freq)\n",
    "isi_ax=ISI(v_vec_ax,t_vec,n,freq)\n",
    "isi_ax1=ISI(v_vec_ax1,t_vec,n,freq)\n",
    "isi_ax2=ISI(v_vec_ax2,t_vec,n,freq)\n",
    "isi_axM=ISI(v_vec_axMiddle,t_vec,n,freq)\n",
    "isi_ax3=ISI(v_vec_ax3,t_vec,n,freq)\n",
    "isi_ax4=ISI(v_vec_ax4,t_vec,n,freq)"
   ]
  },
  {
   "cell_type": "code",
   "execution_count": 3,
   "metadata": {},
   "outputs": [
    {
     "ename": "NameError",
     "evalue": "name 's' is not defined",
     "output_type": "error",
     "traceback": [
      "\u001b[0;31m---------------------------------------------------------------------------\u001b[0m",
      "\u001b[0;31mNameError\u001b[0m                                 Traceback (most recent call last)",
      "\u001b[0;32m<ipython-input-3-e8afd0f48856>\u001b[0m in \u001b[0;36m<module>\u001b[0;34m\u001b[0m\n\u001b[1;32m      2\u001b[0m \u001b[0;31m#fig=plt.figure(figsize=(1520,1520))\u001b[0m\u001b[0;34m\u001b[0m\u001b[0;34m\u001b[0m\u001b[0;34m\u001b[0m\u001b[0m\n\u001b[1;32m      3\u001b[0m \u001b[0;31m#ax1.hist(isi_soma, bins=60,color = 'aquamarine',label = \"soma\")\u001b[0m\u001b[0;34m\u001b[0m\u001b[0;34m\u001b[0m\u001b[0;34m\u001b[0m\u001b[0m\n\u001b[0;32m----> 4\u001b[0;31m \u001b[0ms\u001b[0m\u001b[0;34m.\u001b[0m\u001b[0mhist\u001b[0m\u001b[0;34m(\u001b[0m\u001b[0misi_soma\u001b[0m\u001b[0;34m,\u001b[0m \u001b[0mbins\u001b[0m\u001b[0;34m=\u001b[0m\u001b[0;36m30\u001b[0m\u001b[0;34m,\u001b[0m\u001b[0mcolor\u001b[0m \u001b[0;34m=\u001b[0m \u001b[0;34m'orange'\u001b[0m\u001b[0;34m,\u001b[0m\u001b[0mlabel\u001b[0m \u001b[0;34m=\u001b[0m \u001b[0;34m\"soma\"\u001b[0m\u001b[0;34m)\u001b[0m\u001b[0;34m\u001b[0m\u001b[0;34m\u001b[0m\u001b[0m\n\u001b[0m\u001b[1;32m      5\u001b[0m \u001b[0;31m#ax.set_xlim([27,2000])\u001b[0m\u001b[0;34m\u001b[0m\u001b[0;34m\u001b[0m\u001b[0;34m\u001b[0m\u001b[0m\n\u001b[1;32m      6\u001b[0m \u001b[0;31m#ax.set_ylim([0,20])\u001b[0m\u001b[0;34m\u001b[0m\u001b[0;34m\u001b[0m\u001b[0;34m\u001b[0m\u001b[0m\n",
      "\u001b[0;31mNameError\u001b[0m: name 's' is not defined"
     ]
    },
    {
     "data": {
      "image/png": "[encoded data removed]",
      "text/plain": [
       "<Figure size 432x288 with 6 Axes>"
      ]
     },
     "metadata": {
      "needs_background": "light"
     },
     "output_type": "display_data"
    }
   ],
   "source": [
    "fig, ((ax1,ax2,axM),(ax3,ax4,ax5)) = plt.subplots(2,3)\n",
    "#fig=plt.figure(figsize=(1520,1520))\n",
    "#ax1.hist(isi_soma, bins=60,color = 'aquamarine',label = \"soma\")\n",
    "s.hist(isi_soma, bins=30,color = 'orange',label = \"soma\")\n",
    "#ax.set_xlim([27,2000])\n",
    "#ax.set_ylim([0,20])\n",
    "ax.hist(isi_AIS, bins=30,color = 'lightgreen',label = \"AIS\")\n",
    "#ax.set(xlabel='time (ms)', ylabel='count ISIs')\n",
    "#ax.set_xlim([27,2000])\n",
    "#ax.set_ylim([0,20])\n",
    "ax2.hist(isi_ax1, bins=30,color = 'red',label = \"axon (.2)\")\n",
    "ax2.set(xlabel='time (ms)')\n",
    "ax2.set(xlabel='time (ms)', ylabel='count ISIs')\n",
    "ax2.set_ylim([0,20])\n",
    "ax2.set_xlim([27,1000])\n",
    "ax2.hist(isi_ax2,bins=30,color = 'yellow',label = \"axon (.4)\")\n",
    "ax2.set(xlabel='time (ms)')\n",
    "ax2.set_ylim([0,20])\n",
    "ax2.set_xlim([27,1000])\n",
    "axM.hist(isi_axM,bins=30,color = 'black',label = \"axon (.5)\")\n",
    "axM.set(xlabel='time (ms)')\n",
    "axM.set_ylim([0,20])\n",
    "axM.set_xlim([27,1000])\n",
    "ax3.hist(isi_ax3,bins=30,color = 'green',label = \"axon (.6)\")\n",
    "ax3.set(xlabel='time (ms)', ylabel='count ISIs')\n",
    "ax3.set_ylim([0,20])\n",
    "ax3.set_xlim([27,1000])\n",
    "ax4.hist(isi_ax4,bins=30,color = 'blue',label = \"axon (.8)\")\n",
    "ax4.set(xlabel='time (ms)')\n",
    "ax4.set_ylim([0,20])\n",
    "ax4.set_xlim([27,1000])\n",
    "ax5.hist(isi_ax,bins=30,color = 'pink',label = \"end axon\")\n",
    "ax5.set(xlabel='time (ms)')\n",
    "fig.legend(loc='center left', bbox_to_anchor=(1, 0.5))\n",
    "fig.suptitle(\"Soma+axon ISI (Input Middle axon, I=0.65 uA)\")\n",
    "ax5.set_ylim([0,20])\n",
    "ax5.set_xlim([27,1000])\n",
    "plt.savefig(\"soma_axon/middle_soma_in/PDF1.png\",bbox_inches = \"tight\")"
   ]
  },
  {
   "cell_type": "code",
   "execution_count": null,
   "metadata": {},
   "outputs": [],
   "source": []
  }
 ],
 "metadata": {
  "@webio": {
   "lastCommId": null,
   "lastKernelId": null
  },
  "kernelspec": {
   "display_name": "Python 3",
   "language": "python",
   "name": "python3"
  },
  "language_info": {
   "codemirror_mode": {
    "name": "ipython",
    "version": 3
   },
   "file_extension": ".py",
   "mimetype": "text/x-python",
   "name": "python",
   "nbconvert_exporter": "python",
   "pygments_lexer": "ipython3",
   "version": "3.7.4"
  }
 },
 "nbformat": 4,
 "nbformat_minor": 2
}
