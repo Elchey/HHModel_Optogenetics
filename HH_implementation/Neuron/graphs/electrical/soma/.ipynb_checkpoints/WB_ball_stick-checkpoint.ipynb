{
 "cells": [
  {
   "cell_type": "code",
   "execution_count": 1,
   "metadata": {},
   "outputs": [
    {
     "data": {
      "text/plain": [
       "1.0"
      ]
     },
     "execution_count": 1,
     "metadata": {},
     "output_type": "execute_result"
    }
   ],
   "source": [
    "from neuron import h, gui   # Standard \"import\" of the NEURON library into Python...\n",
    "import matplotlib.pyplot as plt\n",
    "import statistics \n",
    "import numpy as np\n",
    "h.load_file('stdrun.hoc')   # Activation of a NEURON library, to fine control the simulation..."
   ]
  },
  {
   "cell_type": "markdown",
   "metadata": {},
   "source": [
    "#### Model Ball+Stick"
   ]
  },
  {
   "cell_type": "code",
   "execution_count": 2,
   "metadata": {},
   "outputs": [
    {
     "name": "stdout",
     "output_type": "stream",
     "text": [
      "soma { nseg=1  L=100  Ra=35.4\n",
      "\t/*location 0 attached to cell 0*/\n",
      "\t/* First segment only */\n",
      "\tinsert morphology { diam=500}\n",
      "\tinsert capacitance { cm=0.5}\n",
      "}\n"
     ]
    },
    {
     "data": {
      "text/plain": [
       "1.0"
      ]
     },
     "execution_count": 2,
     "metadata": {},
     "output_type": "execute_result"
    }
   ],
   "source": [
    "soma = h.Section(name='soma')\n",
    "soma.cm = 0.5\n",
    "h.psection()"
   ]
  },
  {
   "cell_type": "code",
   "execution_count": 3,
   "metadata": {},
   "outputs": [
    {
     "data": {
      "text/plain": [
       "axon"
      ]
     },
     "execution_count": 3,
     "metadata": {},
     "output_type": "execute_result"
    }
   ],
   "source": [
    "axon=h.Section(name='axon')\n",
    "axon.connect(soma,1, 1)"
   ]
  },
  {
   "cell_type": "code",
   "execution_count": 9,
   "metadata": {},
   "outputs": [
    {
     "name": "stdout",
     "output_type": "stream",
     "text": [
      "axon { nseg=3  L=100  Ra=35.4\n",
      "\tsoma connect axon (1), 1\n",
      "\t/* First segment only */\n",
      "\tinsert capacitance { cm=1}\n",
      "\tinsert morphology { diam=500}\n",
      "}\n"
     ]
    },
    {
     "data": {
      "text/plain": [
       "1.0"
      ]
     },
     "execution_count": 9,
     "metadata": {},
     "output_type": "execute_result"
    }
   ],
   "source": [
    "axon.nseg=3\n",
    "h.psection(sec=axon)"
   ]
  },
  {
   "cell_type": "code",
   "execution_count": 10,
   "metadata": {},
   "outputs": [
    {
     "name": "stdout",
     "output_type": "stream",
     "text": [
      "\n",
      "|-|       soma(0-1)\n",
      "   `--|       axon(1-0)\n",
      "\n"
     ]
    },
    {
     "data": {
      "text/plain": [
       "1.0"
      ]
     },
     "execution_count": 10,
     "metadata": {},
     "output_type": "execute_result"
    }
   ],
   "source": [
    "h.topology()"
   ]
  },
  {
   "cell_type": "markdown",
   "metadata": {},
   "source": [
    "### Train impulse definition"
   ]
  },
  {
   "cell_type": "code",
   "execution_count": 15,
   "metadata": {},
   "outputs": [],
   "source": [
    "tot=10000\n",
    "freq=25          #ms -   Inter-stimulation interval\n",
    "n=int(tot/freq)\n",
    "A= 20.9  # micro Ampere, the intensity of the current square pulse\n",
    "\n",
    "iclamp=[]   # impulse train\n",
    "t_in=[]\n",
    "counter=0\n",
    "\n",
    "for i in range(0,n):\n",
    "    imp=h.IClamp(soma(0.5))    # This is positioned in the central point (0.5) of the soma \"segment\"\n",
    "    #imp=h.IClamp(dend(1))\n",
    "    imp.delay=0+counter        # millisecond of delay, before switching on the current \"square pulse\"\n",
    "    imp.amp=A\n",
    "    imp.dur=0.27303           # millisecond of duration, of the square pulse waveform\n",
    "    iclamp.append(imp)   # This is positioned in the central point (0.5) of the soma \"segment\"\n",
    "    t_in.append(imp.delay)\n",
    "    counter=imp.delay+freq"
   ]
  },
  {
   "cell_type": "markdown",
   "metadata": {},
   "source": [
    "###  Model injection and record parameter"
   ]
  },
  {
   "cell_type": "code",
   "execution_count": 16,
   "metadata": {},
   "outputs": [
    {
     "ename": "ValueError",
     "evalue": "argument not a density mechanism name.",
     "output_type": "error",
     "traceback": [
      "\u001b[0;31m---------------------------------------------------------------------------\u001b[0m",
      "\u001b[0;31mValueError\u001b[0m                                Traceback (most recent call last)",
      "\u001b[0;32m<ipython-input-16-6a489240eb89>\u001b[0m in \u001b[0;36m<module>\u001b[0;34m\u001b[0m\n\u001b[1;32m      1\u001b[0m \u001b[0mh\u001b[0m\u001b[0;34m.\u001b[0m\u001b[0mdt\u001b[0m\u001b[0;34m=\u001b[0m\u001b[0;36m0.01\u001b[0m\u001b[0;34m\u001b[0m\u001b[0;34m\u001b[0m\u001b[0m\n\u001b[0;32m----> 2\u001b[0;31m \u001b[0msoma\u001b[0m\u001b[0;34m.\u001b[0m\u001b[0minsert\u001b[0m\u001b[0;34m(\u001b[0m\u001b[0;34m'WBCN'\u001b[0m\u001b[0;34m)\u001b[0m  \u001b[0;31m# This inserts two voltage-dependent conductances (Na, K) into the simulated membrane\u001b[0m\u001b[0;34m\u001b[0m\u001b[0;34m\u001b[0m\u001b[0m\n\u001b[0m\u001b[1;32m      3\u001b[0m \u001b[0mh\u001b[0m\u001b[0;34m.\u001b[0m\u001b[0mpsection\u001b[0m\u001b[0;34m(\u001b[0m\u001b[0;34m)\u001b[0m\u001b[0;34m\u001b[0m\u001b[0;34m\u001b[0m\u001b[0m\n\u001b[1;32m      4\u001b[0m \u001b[0mv_vec\u001b[0m \u001b[0;34m=\u001b[0m \u001b[0mh\u001b[0m\u001b[0;34m.\u001b[0m\u001b[0mVector\u001b[0m\u001b[0;34m(\u001b[0m\u001b[0;34m)\u001b[0m             \u001b[0;31m# Membrane potential vector is created here\u001b[0m\u001b[0;34m\u001b[0m\u001b[0;34m\u001b[0m\u001b[0m\n\u001b[1;32m      5\u001b[0m \u001b[0mt_vec\u001b[0m \u001b[0;34m=\u001b[0m \u001b[0mh\u001b[0m\u001b[0;34m.\u001b[0m\u001b[0mVector\u001b[0m\u001b[0;34m(\u001b[0m\u001b[0;34m)\u001b[0m             \u001b[0;31m# Time stamp vector is created here\u001b[0m\u001b[0;34m\u001b[0m\u001b[0;34m\u001b[0m\u001b[0m\n",
      "\u001b[0;31mValueError\u001b[0m: argument not a density mechanism name."
     ]
    }
   ],
   "source": [
    "h.dt=0.01\n",
    "soma.insert('WBCN')  # This inserts two voltage-dependent conductances (Na, K) into the simulated membrane\n",
    "h.psection()\n",
    "v_vec = h.Vector()             # Membrane potential vector is created here\n",
    "t_vec = h.Vector()             # Time stamp vector is created here\n",
    "v_vec_ax = h.Vector()             # Membrane potential vector is created here\n",
    "m_vec = h.Vector()             # Open Na gate variable vector is created here\n",
    "h_vec = h.Vector()             # Inactivation gate variable vector is created here\n",
    "n_vec = h.Vector()             # Open K gate variable vector is created here\n",
    "m_vec.record(soma(0.5).WBCN._ref_m) # The appropriate state-variable is linked to the vector\n",
    "h_vec.record(soma(0.5).WBCN._ref_h) # The appropriate state-variable is linked to the vector\n",
    "n_vec.record(soma(0.5).WBCN._ref_n) # The appropriate state-variable is linked to the vector\n",
    "v_vec.record(soma(0.5)._ref_v) # The voltage of the soma section is linked to the vector v_vec\n",
    "v_vec_ax.record(axon(2)._ref_v) # The appropriate state-variable is linked to the vector\n",
    "\n",
    "\n",
    "t_vec.record(h._ref_t)         # The absolute time of the simulation is linked to the vector t_vec\n",
    "\n",
    "h.v_init = -60                # Let's set the initial condition of the membrane potential\n",
    "\n",
    "h.t     =   0.0               # Let's reset the initial time of the simulation to 0 ms\n",
    "h.tstop = float(tot)   "
   ]
  },
  {
   "cell_type": "markdown",
   "metadata": {},
   "source": [
    "### Simulation results"
   ]
  },
  {
   "cell_type": "code",
   "execution_count": null,
   "metadata": {},
   "outputs": [],
   "source": [
    "plt.plot(t_vec, v_vec)\n",
    "plt.xlabel('time (ms)')\n",
    "plt.title('Guler model WB (Input soma_x=0.5),I=20.9 uA')\n",
    "plt.ylabel('Voltage (mV)')\n",
    "#plt.show()"
   ]
  }
 ],
 "metadata": {
  "@webio": {
   "lastCommId": null,
   "lastKernelId": null
  },
  "kernelspec": {
   "display_name": "Python 3",
   "language": "python",
   "name": "python3"
  },
  "language_info": {
   "codemirror_mode": {
    "name": "ipython",
    "version": 3
   },
   "file_extension": ".py",
   "mimetype": "text/x-python",
   "name": "python",
   "nbconvert_exporter": "python",
   "pygments_lexer": "ipython3",
   "version": "3.7.4"
  }
 },
 "nbformat": 4,
 "nbformat_minor": 2
}
